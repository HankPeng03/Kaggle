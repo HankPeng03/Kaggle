{
 "cells": [
  {
   "cell_type": "code",
   "execution_count": 1,
   "metadata": {
    "collapsed": true,
    "deletable": true,
    "editable": true
   },
   "outputs": [],
   "source": [
    "import tensorflow as tf\n",
    "import numpy as np\n",
    "import pandas as pd"
   ]
  },
  {
   "cell_type": "code",
   "execution_count": null,
   "metadata": {
    "collapsed": true,
    "deletable": true,
    "editable": true
   },
   "outputs": [],
   "source": [
    "def Labels(_df):\n",
    "    def one_hot(x):\n",
    "        '''\n",
    "          对10个类型进行one_hot编码\n",
    "        '''\n",
    "        returnList=np.zeros([10])\n",
    "        returnList[x]=1\n",
    "        return(returnList)\n",
    "    labels=_df.icol[0]  #取第一列\n",
    "    temp=list()\n",
    "    for i in labels:\n",
    "        temp=temp.append(one_hot(i))\n",
    "    returnMatrix=np.matrix(temp)\n",
    "    return(returnMatrix)   #预计返回42000*10的矩阵\n",
    "def train_test_data(_df):\n",
    "    df=_df.copy()\n",
    "    del df['label'] #删除label列\n",
    "    returnMatrix=np.matrix(df)\n",
    "    return(returnMatrix)   #预计返回42000*784的稀疏矩阵\n",
    "def train_test_label(_df):\n",
    "    '''\n",
    "       返回训练数据集的label\n",
    "    '''\n",
    "    return(Labels(_df))\n",
    "def random_batch(batch_size=100,train_X,train_Y):\n",
    "    '''\n",
    "       随机选择样本进行训练\n",
    "    '''\n",
    "    index=np.random.randint(0,train_X.shape[0]-batch_size)\n",
    "    return(train_X[index:batch_size],train_Y[index:batch_size])\n",
    "df=pd.read_csv(\"train.csv\")\n",
    "df_test=pd.read_csv(\"test.csv\")\n",
    "dim=df.shape[0]\n",
    "train_X=train_test_data(df)  #训练矩阵（每一个样本占一行）\n",
    "test_X=train_test_data(df_test)\n",
    "train_Y=train_test_label(df)  #训练集labels\n",
    "test_Y=train_test_label(df_test)\n",
    "shape=train_X.shape\n",
    "sess=tf.InteractiveSession()\n",
    "#创建真实label的输入值\n",
    "y_=tf.placeholder(dtype=tf.float32,shape=[dim])\n",
    "#创建训练矩阵输入\n",
    "x=tf.placeholder(dtype=tf.float32,shape=shape)\n",
    "#初始化权值\n",
    "weights=tf.Variable(tf.zeros([shape[1],10]))\n",
    "#初始化偏置值\n",
    "bias=tf.Variable(tf.zeros([10]))\n",
    "#实现softmax算法\n",
    "y=tf.nn.softmax(tf.matmul(x,weights)+bias)\n",
    "#定义损失函数loss，采用cross_entropy\n",
    "cross_entropy=tf.reduce_mean(-tf.reduce_sum(y_*tf.log(y),reduction_indices=[1]))\n",
    "#定义优化损失函数的优化器,这里采用SGD\n",
    "train_step=tf.train.GradientDescentOptimizer(cross_entropy)\n",
    "#定义计算预测精度函数\n",
    "correct_prediction=tf.equal(tf.argmax(y,1),tf.argmax(y_,1))\n",
    "accuracy=tf.reduce_mean(tf.cast(correct_prediction,tf.float32))\n",
    "#进入训练阶段\n",
    "#运行初始化计算子图\n",
    "tf.global_variables_initializer().run()\n",
    "\n",
    "for i in range(1000):\n",
    "    batch_X,batch_Y=random_batch(batch_size=100)\n",
    "    train_step.run(feed_dict={x:batch_X,y_:batch_Y})\n",
    "    if i%100==0:\n",
    "        print(accuracy.eval(feed_dict={x:test_X,y_:test_Y}))\n",
    "print(\"accuracy:%f\"%(accuracy.eval(feed_dict={x:test_X,y_:test_Y})))        \n"
   ]
  }
 ],
 "metadata": {
  "kernelspec": {
   "display_name": "Python 2",
   "language": "python",
   "name": "python2"
  },
  "language_info": {
   "codemirror_mode": {
    "name": "ipython",
    "version": 2
   },
   "file_extension": ".py",
   "mimetype": "text/x-python",
   "name": "python",
   "nbconvert_exporter": "python",
   "pygments_lexer": "ipython2",
   "version": "2.7.3"
  }
 },
 "nbformat": 4,
 "nbformat_minor": 0
}
