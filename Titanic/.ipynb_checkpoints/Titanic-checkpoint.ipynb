{
 "cells": [
  {
   "cell_type": "code",
   "execution_count": 1,
   "metadata": {
    "collapsed": false,
    "deletable": true,
    "editable": true
   },
   "outputs": [],
   "source": [
    "import pandas as pd\n",
    "import numpy as np\n",
    "from sklearn import tree\n",
    "from sklearn.model_selection import  train_test_split\n",
    "from sklearn import preprocessing\n",
    "from sklearn.preprocessing import Imputer   #处理缺失值的类"
   ]
  },
  {
   "cell_type": "code",
   "execution_count": 2,
   "metadata": {
    "collapsed": true,
    "deletable": true,
    "editable": true
   },
   "outputs": [],
   "source": [
    "df_train=pd.read_csv('train (1).csv')"
   ]
  },
  {
   "cell_type": "code",
   "execution_count": 3,
   "metadata": {
    "collapsed": false,
    "deletable": true,
    "editable": true
   },
   "outputs": [],
   "source": [
    "def preprocess(data):\n",
    "    '''\n",
    "       将标量数据转为为数值\n",
    "    '''\n",
    "    returnList=[]\n",
    "    return_str_index=[]\n",
    "    return_label=[]\n",
    "    le_list=[]\n",
    "    le_num=0\n",
    "    for data_list in data: #遍历每一个数据行\n",
    "        str_index=[]   #储存元素类型为字符串的元素下标\n",
    "        temp_list=data_list.tolist()[0]  \n",
    "        temp_label=[]  #储存元素类型为字符串的元素\n",
    "        for i in range(0,len(temp_list)):\n",
    "            if isinstance(temp_list[i],str):\n",
    "                str_index.append(i)\n",
    "        for index in str_index:\n",
    "            temp_label.append(temp_list[index])\n",
    "        le_list.append(preprocessing.LabelEncoder())\n",
    "        le_list[le_num].fit(temp_label)\n",
    "        for index in str_index:\n",
    "            temp_list[index]=le_list[le_num].transform([temp_list[index]])[0] #将字符串替换为数值型数据 \n",
    "        returnList.append(temp_list)  #将替换好的数据加入到列表中\n",
    "        return_str_index.append(str_index)\n",
    "        return_label.append(temp_label)\n",
    "        le_num+=1\n",
    "    return(np.matrix(returnList),return_str_index,return_label,le_list)\n",
    "def preprocess_na(data):\n",
    "    from sklearn.preprocessing import Imputer\n",
    "    imp=Imputer(missing_values=np.nan,strategy='mean',axis=0)\n",
    "    X=np.array([0,0])\n",
    "    imp.fit(X)\n",
    "    return(imp.transform(data))"
   ]
  },
  {
   "cell_type": "code",
   "execution_count": 5,
   "metadata": {
    "collapsed": false,
    "deletable": true,
    "editable": true
   },
   "outputs": [],
   "source": [
    "df_X=np.matrix(df_train[list(df_train.columns)[2:len(df_train)]] )\n",
    "df_Y=np.matrix(df_train[list(df_train.columns)[1]]).T\n",
    "#将标量数据转为为数值\n",
    "df_X,str_index_list,label_list,le_list=preprocess(df_X)\n",
    "#处理缺失值,将缺失值填充为0\n",
    "df_X[np.isnan(df_X)]=0  \n",
    "#拆分训练集与验证集\n",
    "train_X,valid_X,train_Y,valid_Y=train_test_split(df_X,df_Y,test_size=0.3,random_state=42) \n",
    "#构建决策树模型\n",
    "clf=tree.DecisionTreeClassifier(criterion='entropy',max_features=None,min_samples_split=10,min_samples_leaf=5)\n",
    "#训练模型\n",
    "clf.fit(X=train_X,y=train_Y)\n",
    "#使用训练好的模型进行预测\n",
    "predict=clf.predict(X=valid_X)\n",
    "#计算预测精度\n",
    "accuracy=np.mean(np.matrix(predict)==valid_Y.reshape(-1))\n",
    "print(accuracy)\n",
    "print(clf.feature_importances_)"
   ]
  },
  {
   "cell_type": "code",
   "execution_count": null,
   "metadata": {
    "collapsed": true
   },
   "outputs": [],
   "source": []
  }
 ],
 "metadata": {
  "kernelspec": {
   "display_name": "Python [Root]",
   "language": "python",
   "name": "Python [Root]"
  },
  "language_info": {
   "codemirror_mode": {
    "name": "ipython",
    "version": 3
   },
   "file_extension": ".py",
   "mimetype": "text/x-python",
   "name": "python",
   "nbconvert_exporter": "python",
   "pygments_lexer": "ipython3",
   "version": "3.5.2"
  }
 },
 "nbformat": 4,
 "nbformat_minor": 0
}
