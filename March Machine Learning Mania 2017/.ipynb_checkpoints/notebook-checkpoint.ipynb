{
 "cells": [
  {
   "cell_type": "code",
   "execution_count": 41,
   "metadata": {
    "_cell_guid": "79d84110-0fbb-2c82-5437-fc01f43e544e",
    "_uuid": "e219057ecefa341ef647aa594e86456b786b4493",
    "collapsed": false,
    "deletable": true,
    "editable": true
   },
   "outputs": [],
   "source": [
    "# This Python 3 environment comes with many helpful analytics libraries installed\n",
    "# It is defined by the kaggle/python docker image: https://github.com/kaggle/docker-python\n",
    "# For example, here's several helpful packages to load in \n",
    "\n",
    "import numpy as np # linear algebra\n",
    "import pandas as pd # data processing, CSV file I/O (e.g. pd.read_csv)\n",
    "import matplotlib.pyplot as plt\n",
    "import seaborn as sns\n",
    "import os\n",
    "from sklearn.preprocessing import LabelEncoder  #将字符匹配为数值\n",
    "sns.set_style(\"darkgrid\")\n",
    "sns.set_context(\"notebook\")\n",
    "\n",
    "# Input data files are available in the \"../input/\" directory.\n",
    "# For example, running this (by clicking run or pressing Shift+Enter) will list the files in the input directory\n",
    "\n",
    "\n",
    "# Any results you write to the current directory are saved as output."
   ]
  },
  {
   "cell_type": "markdown",
   "metadata": {
    "_cell_guid": "30bfeed0-04fe-60db-792a-9bdcb0cbe557",
    "_uuid": "8ab774d1ce0868ff09b860844716d2b37a802b93",
    "deletable": true,
    "editable": true
   },
   "source": [
    "Set some constants we need to compute Elo ratings"
   ]
  },
  {
   "cell_type": "code",
   "execution_count": 15,
   "metadata": {
    "_cell_guid": "53528b4c-80e8-e64f-0d1f-767f1c767f67",
    "_uuid": "31a5d63787e816cdc74b249b6ed75eb08f9b6b41",
    "collapsed": true,
    "deletable": true,
    "editable": true
   },
   "outputs": [],
   "source": [
    "mean_elo = 1500  #平均评分\n",
    "elo_width = 400\n",
    "k_factor = 64"
   ]
  },
  {
   "cell_type": "markdown",
   "metadata": {
    "_cell_guid": "f063a314-209b-9f7d-b704-11fab26b3ca1",
    "_uuid": "e1de0b8241be31374e2cd44977979f78a320d761",
    "deletable": true,
    "editable": true
   },
   "source": [
    "## Load the data ##"
   ]
  },
  {
   "cell_type": "code",
   "execution_count": 3,
   "metadata": {
    "_cell_guid": "fde48030-9f34-b683-9808-6c77ede8df51",
    "_uuid": "01fe19df9ba9f3ae37bc33c6259582a97a8be055",
    "collapsed": false,
    "deletable": true,
    "editable": true
   },
   "outputs": [
    {
     "data": {
      "text/plain": [
       "['.ipynb_checkpoints',\n",
       " 'LogisticRegression.ipynb',\n",
       " 'notebook.ipynb',\n",
       " 'RegularSeasonDetailedResults.csv',\n",
       " 'Result.csv',\n",
       " 'SampleSubmission.csv',\n",
       " 'Seasons.csv',\n",
       " 'TourneyCompactResults.csv',\n",
       " 'TourneySeeds.csv']"
      ]
     },
     "execution_count": 3,
     "metadata": {},
     "output_type": "execute_result"
    }
   ],
   "source": [
    "os.listdir()"
   ]
  },
  {
   "cell_type": "code",
   "execution_count": 9,
   "metadata": {
    "_cell_guid": "edb85d25-e2c7-50d5-a79c-f5f2d43aaceb",
    "_uuid": "34ae9fe02c28d2ee91cd5ae6b742b7e501d9b787",
    "collapsed": false,
    "deletable": true,
    "editable": true
   },
   "outputs": [],
   "source": [
    "df_reg = pd.read_csv('RegularSeasonCompactResults.csv')\n",
    "df_tour = pd.read_csv('TourneyCompactResults.csv')"
   ]
  },
  {
   "cell_type": "code",
   "execution_count": 10,
   "metadata": {
    "collapsed": false
   },
   "outputs": [
    {
     "data": {
      "text/plain": [
       "Index(['Season', 'Daynum', 'Wteam', 'Wscore', 'Lteam', 'Lscore', 'Wloc',\n",
       "       'Numot'],\n",
       "      dtype='object')"
      ]
     },
     "execution_count": 10,
     "metadata": {},
     "output_type": "execute_result"
    }
   ],
   "source": [
    "df_tour.columns"
   ]
  },
  {
   "cell_type": "markdown",
   "metadata": {
    "_cell_guid": "c3b3642c-8cec-1f15-9481-63e6a3fa5384",
    "_uuid": "10b6e5e0708b7cd98ed8c50b43e3b58ad98e3ea6",
    "deletable": true,
    "editable": true
   },
   "source": [
    "- Concatenate both regular season and tournament results into one DataFrame.\n",
    "- Drop the columns we don't need. \n",
    "- Sort chronologically, ie by season, then by date in that season"
   ]
  },
  {
   "cell_type": "code",
   "execution_count": 11,
   "metadata": {
    "_cell_guid": "44292bb3-c6a1-a8a1-ac32-8e1e5193848f",
    "_uuid": "bea1fa1c848144b600131300c6a9f64725724703",
    "collapsed": true,
    "deletable": true,
    "editable": true
   },
   "outputs": [],
   "source": [
    "df_concat = pd.concat((df_reg, df_tour), ignore_index=True)  \n",
    "df_concat.drop(labels=[ 'Wscore', 'Lscore', 'Wloc', 'Numot'], inplace=True, axis=1) #drop the columns don't need\n",
    "df_concat.sort_values(by=['Season', 'Daynum'], inplace=True)"
   ]
  },
  {
   "cell_type": "markdown",
   "metadata": {
    "_cell_guid": "45958d7a-2b4e-ed61-1851-a511f6014002",
    "_uuid": "66e4a70410ecbf648088c996a6893f19ad6888d0",
    "deletable": true,
    "editable": true
   },
   "source": [
    "Transform team IDs to be from 0 to number_of_teams-1.\n",
    "We do this so that we can use team ID as an index for lookups later."
   ]
  },
  {
   "cell_type": "code",
   "execution_count": 12,
   "metadata": {
    "_cell_guid": "54e1a6a8-19f6-01ea-d3f1-a076e3e1cf0a",
    "_uuid": "1ca38ccbc7f17da0bcc56bd64938d881d6acec40",
    "collapsed": true,
    "deletable": true,
    "editable": true
   },
   "outputs": [],
   "source": [
    "le = LabelEncoder()\n",
    "df_concat.Wteam = le.fit_transform(df_concat.Wteam)\n",
    "df_concat.Lteam = le.fit_transform(df_concat.Lteam)"
   ]
  },
  {
   "cell_type": "markdown",
   "metadata": {
    "_cell_guid": "e1e80d03-ede6-b8b8-f1b6-ff5fb24451ab",
    "_uuid": "830776ab92367c282b0fbaaedd489352c5b32bf9",
    "deletable": true,
    "editable": true
   },
   "source": [
    "## Elo stuff preparation ##\n",
    "Define the functions we need to calculate the probability of winning given two Elo ratings,\n",
    "and also the change in Elo rating after a game is played."
   ]
  },
  {
   "cell_type": "code",
   "execution_count": 26,
   "metadata": {
    "_cell_guid": "ea7425a0-a672-4d9b-ee05-d6bd10979a0a",
    "_uuid": "e80699b7a9a7be06b808669b89bfa20dc4b2be74",
    "collapsed": true,
    "deletable": true,
    "editable": true
   },
   "outputs": [],
   "source": [
    "def update_elo(winner_elo, loser_elo):\n",
    "    \"\"\"\n",
    "    https://en.wikipedia.org/wiki/Elo_rating_system#Mathematical_details\n",
    "    \"\"\"\n",
    "    expected_win = expected_result(winner_elo, loser_elo)  #计算获胜的概率\n",
    "    change_in_elo = k_factor * (1-expected_win)  #根据实际得分，更新评级的值\n",
    "    winner_elo += change_in_elo   #增加对实际获胜的队伍的评定等级\n",
    "    loser_elo -= change_in_elo    #减少对实际败北的队伍的评定等级\n",
    "    return winner_elo, loser_elo   #返回两支队伍的等级\n",
    "\n",
    "def expected_result(elo_a, elo_b):\n",
    "    \"\"\"\n",
    "    :params elo_a:玩家a的评分;   elo_b:玩家b的评分\n",
    "    https://en.wikipedia.org/wiki/Elo_rating_system#Mathematical_details\n",
    "    \"\"\"\n",
    "    expect_a = 1.0/(1+10**((elo_b - elo_a)/elo_width))  #玩家a的预期得分\n",
    "    return expect_a"
   ]
  },
  {
   "cell_type": "code",
   "execution_count": 27,
   "metadata": {
    "_cell_guid": "88a8407d-5baf-0f29-f89f-c78b2a3e820f",
    "_uuid": "edc2e33a0706a201534e82056f3ce30f7e25bb9d",
    "collapsed": true,
    "deletable": true,
    "editable": true
   },
   "outputs": [],
   "source": [
    "def update_end_of_season(elos):\n",
    "    \"\"\"\n",
    "    根据平均评分更新该评分\n",
    "    Regression towards the mean\n",
    "    \n",
    "    Following 538 nfl methods\n",
    "    https://fivethirtyeight.com/datalab/nfl-elo-ratings-are-back/\n",
    "    \"\"\"\n",
    "    diff_from_mean = elos - mean_elo   #与平均评分的差值\n",
    "    elos -= diff_from_mean/3  \n",
    "    return elos"
   ]
  },
  {
   "cell_type": "code",
   "execution_count": 28,
   "metadata": {
    "collapsed": false
   },
   "outputs": [
    {
     "data": {
      "text/html": [
       "<div>\n",
       "<table border=\"1\" class=\"dataframe\">\n",
       "  <thead>\n",
       "    <tr style=\"text-align: right;\">\n",
       "      <th></th>\n",
       "      <th>Season</th>\n",
       "      <th>Daynum</th>\n",
       "      <th>Wteam</th>\n",
       "      <th>Lteam</th>\n",
       "      <th>w_elo_before_game</th>\n",
       "      <th>w_elo_after_game</th>\n",
       "      <th>l_elo_before_game</th>\n",
       "      <th>l_elo_after_game</th>\n",
       "      <th>total_days</th>\n",
       "    </tr>\n",
       "  </thead>\n",
       "  <tbody>\n",
       "    <tr>\n",
       "      <th>0</th>\n",
       "      <td>1985</td>\n",
       "      <td>20</td>\n",
       "      <td>127</td>\n",
       "      <td>227</td>\n",
       "      <td>0</td>\n",
       "      <td>0</td>\n",
       "      <td>0</td>\n",
       "      <td>0</td>\n",
       "      <td>5498.75</td>\n",
       "    </tr>\n",
       "    <tr>\n",
       "      <th>1</th>\n",
       "      <td>1985</td>\n",
       "      <td>25</td>\n",
       "      <td>5</td>\n",
       "      <td>253</td>\n",
       "      <td>0</td>\n",
       "      <td>0</td>\n",
       "      <td>0</td>\n",
       "      <td>0</td>\n",
       "      <td>5503.75</td>\n",
       "    </tr>\n",
       "    <tr>\n",
       "      <th>2</th>\n",
       "      <td>1985</td>\n",
       "      <td>25</td>\n",
       "      <td>11</td>\n",
       "      <td>122</td>\n",
       "      <td>0</td>\n",
       "      <td>0</td>\n",
       "      <td>0</td>\n",
       "      <td>0</td>\n",
       "      <td>5503.75</td>\n",
       "    </tr>\n",
       "    <tr>\n",
       "      <th>3</th>\n",
       "      <td>1985</td>\n",
       "      <td>25</td>\n",
       "      <td>64</td>\n",
       "      <td>331</td>\n",
       "      <td>0</td>\n",
       "      <td>0</td>\n",
       "      <td>0</td>\n",
       "      <td>0</td>\n",
       "      <td>5503.75</td>\n",
       "    </tr>\n",
       "    <tr>\n",
       "      <th>4</th>\n",
       "      <td>1985</td>\n",
       "      <td>25</td>\n",
       "      <td>91</td>\n",
       "      <td>346</td>\n",
       "      <td>0</td>\n",
       "      <td>0</td>\n",
       "      <td>0</td>\n",
       "      <td>0</td>\n",
       "      <td>5503.75</td>\n",
       "    </tr>\n",
       "  </tbody>\n",
       "</table>\n",
       "</div>"
      ],
      "text/plain": [
       "   Season  Daynum  Wteam  Lteam  w_elo_before_game  w_elo_after_game  \\\n",
       "0    1985      20    127    227                  0                 0   \n",
       "1    1985      25      5    253                  0                 0   \n",
       "2    1985      25     11    122                  0                 0   \n",
       "3    1985      25     64    331                  0                 0   \n",
       "4    1985      25     91    346                  0                 0   \n",
       "\n",
       "   l_elo_before_game  l_elo_after_game  total_days  \n",
       "0                  0                 0     5498.75  \n",
       "1                  0                 0     5503.75  \n",
       "2                  0                 0     5503.75  \n",
       "3                  0                 0     5503.75  \n",
       "4                  0                 0     5503.75  "
      ]
     },
     "execution_count": 28,
     "metadata": {},
     "output_type": "execute_result"
    }
   ],
   "source": [
    "df_concat.head()"
   ]
  },
  {
   "cell_type": "code",
   "execution_count": 29,
   "metadata": {
    "_cell_guid": "a6a35ea0-78b7-aeaa-3f5c-cfc9d3b434fd",
    "_uuid": "6bcbff6f770287617ccbf002db84de9051f63fe6",
    "collapsed": false,
    "deletable": true,
    "editable": true
   },
   "outputs": [],
   "source": [
    "df_concat['w_elo_before_game'] = 0\n",
    "df_concat['w_elo_after_game'] = 0\n",
    "df_concat['l_elo_before_game'] = 0\n",
    "df_concat['l_elo_after_game'] = 0\n",
    "elo_per_season = {}\n",
    "n_teams = len(le.classes_)  #队伍总数\n",
    "current_elos = np.ones(shape=(n_teams)) * mean_elo "
   ]
  },
  {
   "cell_type": "markdown",
   "metadata": {
    "_cell_guid": "eec1591c-a91e-2cfb-93b8-53387de9038c",
    "_uuid": "7a76ca1165317c9ba1ba250fb5bef834cc216de7",
    "deletable": true,
    "editable": true
   },
   "source": [
    "# Make a new column with a unique time\n",
    "I use days since Jan 1, 1970 to be able to convert to a datetime object later"
   ]
  },
  {
   "cell_type": "code",
   "execution_count": 30,
   "metadata": {
    "_cell_guid": "c3221ed6-314b-6827-bbc7-f7009e0e5d40",
    "_uuid": "f5f4cddd01ad23cae6113894555907e3b4205b8a",
    "collapsed": true,
    "deletable": true,
    "editable": true
   },
   "outputs": [],
   "source": [
    "df_concat['total_days'] = (df_concat.Season-1970)*365.25 + df_concat.Daynum  #将日期转化为天数（从1970-01-01始）"
   ]
  },
  {
   "cell_type": "code",
   "execution_count": 31,
   "metadata": {
    "_cell_guid": "a62220ab-905b-2f5f-4c1a-7007e42c2e55",
    "_uuid": "8e39c26bc8765de4d4253b5c9ecfde010a26d350",
    "collapsed": true,
    "deletable": true,
    "editable": true
   },
   "outputs": [],
   "source": [
    "df_team_elos = pd.DataFrame(index=df_concat.total_days.unique(), \n",
    "                            columns=range(n_teams))   #行代表每一个日期，列代表每一支队伍\n",
    "df_team_elos.iloc[0, :] = current_elos"
   ]
  },
  {
   "cell_type": "code",
   "execution_count": 32,
   "metadata": {
    "collapsed": false
   },
   "outputs": [
    {
     "data": {
      "text/html": [
       "<div>\n",
       "<table border=\"1\" class=\"dataframe\">\n",
       "  <thead>\n",
       "    <tr style=\"text-align: right;\">\n",
       "      <th></th>\n",
       "      <th>0</th>\n",
       "      <th>1</th>\n",
       "      <th>2</th>\n",
       "      <th>3</th>\n",
       "      <th>4</th>\n",
       "      <th>5</th>\n",
       "      <th>6</th>\n",
       "      <th>7</th>\n",
       "      <th>8</th>\n",
       "      <th>9</th>\n",
       "      <th>...</th>\n",
       "      <th>354</th>\n",
       "      <th>355</th>\n",
       "      <th>356</th>\n",
       "      <th>357</th>\n",
       "      <th>358</th>\n",
       "      <th>359</th>\n",
       "      <th>360</th>\n",
       "      <th>361</th>\n",
       "      <th>362</th>\n",
       "      <th>363</th>\n",
       "    </tr>\n",
       "  </thead>\n",
       "  <tbody>\n",
       "    <tr>\n",
       "      <th>5498.75</th>\n",
       "      <td>1500</td>\n",
       "      <td>1500</td>\n",
       "      <td>1500</td>\n",
       "      <td>1500</td>\n",
       "      <td>1500</td>\n",
       "      <td>1500</td>\n",
       "      <td>1500</td>\n",
       "      <td>1500</td>\n",
       "      <td>1500</td>\n",
       "      <td>1500</td>\n",
       "      <td>...</td>\n",
       "      <td>1500</td>\n",
       "      <td>1500</td>\n",
       "      <td>1500</td>\n",
       "      <td>1500</td>\n",
       "      <td>1500</td>\n",
       "      <td>1500</td>\n",
       "      <td>1500</td>\n",
       "      <td>1500</td>\n",
       "      <td>1500</td>\n",
       "      <td>1500</td>\n",
       "    </tr>\n",
       "    <tr>\n",
       "      <th>5503.75</th>\n",
       "      <td>NaN</td>\n",
       "      <td>NaN</td>\n",
       "      <td>NaN</td>\n",
       "      <td>NaN</td>\n",
       "      <td>NaN</td>\n",
       "      <td>NaN</td>\n",
       "      <td>NaN</td>\n",
       "      <td>NaN</td>\n",
       "      <td>NaN</td>\n",
       "      <td>NaN</td>\n",
       "      <td>...</td>\n",
       "      <td>NaN</td>\n",
       "      <td>NaN</td>\n",
       "      <td>NaN</td>\n",
       "      <td>NaN</td>\n",
       "      <td>NaN</td>\n",
       "      <td>NaN</td>\n",
       "      <td>NaN</td>\n",
       "      <td>NaN</td>\n",
       "      <td>NaN</td>\n",
       "      <td>NaN</td>\n",
       "    </tr>\n",
       "    <tr>\n",
       "      <th>5504.75</th>\n",
       "      <td>NaN</td>\n",
       "      <td>NaN</td>\n",
       "      <td>NaN</td>\n",
       "      <td>NaN</td>\n",
       "      <td>NaN</td>\n",
       "      <td>NaN</td>\n",
       "      <td>NaN</td>\n",
       "      <td>NaN</td>\n",
       "      <td>NaN</td>\n",
       "      <td>NaN</td>\n",
       "      <td>...</td>\n",
       "      <td>NaN</td>\n",
       "      <td>NaN</td>\n",
       "      <td>NaN</td>\n",
       "      <td>NaN</td>\n",
       "      <td>NaN</td>\n",
       "      <td>NaN</td>\n",
       "      <td>NaN</td>\n",
       "      <td>NaN</td>\n",
       "      <td>NaN</td>\n",
       "      <td>NaN</td>\n",
       "    </tr>\n",
       "    <tr>\n",
       "      <th>5505.75</th>\n",
       "      <td>NaN</td>\n",
       "      <td>NaN</td>\n",
       "      <td>NaN</td>\n",
       "      <td>NaN</td>\n",
       "      <td>NaN</td>\n",
       "      <td>NaN</td>\n",
       "      <td>NaN</td>\n",
       "      <td>NaN</td>\n",
       "      <td>NaN</td>\n",
       "      <td>NaN</td>\n",
       "      <td>...</td>\n",
       "      <td>NaN</td>\n",
       "      <td>NaN</td>\n",
       "      <td>NaN</td>\n",
       "      <td>NaN</td>\n",
       "      <td>NaN</td>\n",
       "      <td>NaN</td>\n",
       "      <td>NaN</td>\n",
       "      <td>NaN</td>\n",
       "      <td>NaN</td>\n",
       "      <td>NaN</td>\n",
       "    </tr>\n",
       "    <tr>\n",
       "      <th>5506.75</th>\n",
       "      <td>NaN</td>\n",
       "      <td>NaN</td>\n",
       "      <td>NaN</td>\n",
       "      <td>NaN</td>\n",
       "      <td>NaN</td>\n",
       "      <td>NaN</td>\n",
       "      <td>NaN</td>\n",
       "      <td>NaN</td>\n",
       "      <td>NaN</td>\n",
       "      <td>NaN</td>\n",
       "      <td>...</td>\n",
       "      <td>NaN</td>\n",
       "      <td>NaN</td>\n",
       "      <td>NaN</td>\n",
       "      <td>NaN</td>\n",
       "      <td>NaN</td>\n",
       "      <td>NaN</td>\n",
       "      <td>NaN</td>\n",
       "      <td>NaN</td>\n",
       "      <td>NaN</td>\n",
       "      <td>NaN</td>\n",
       "    </tr>\n",
       "  </tbody>\n",
       "</table>\n",
       "<p>5 rows × 364 columns</p>\n",
       "</div>"
      ],
      "text/plain": [
       "          0     1     2     3     4     5     6     7     8     9    ...   \\\n",
       "5498.75  1500  1500  1500  1500  1500  1500  1500  1500  1500  1500  ...    \n",
       "5503.75   NaN   NaN   NaN   NaN   NaN   NaN   NaN   NaN   NaN   NaN  ...    \n",
       "5504.75   NaN   NaN   NaN   NaN   NaN   NaN   NaN   NaN   NaN   NaN  ...    \n",
       "5505.75   NaN   NaN   NaN   NaN   NaN   NaN   NaN   NaN   NaN   NaN  ...    \n",
       "5506.75   NaN   NaN   NaN   NaN   NaN   NaN   NaN   NaN   NaN   NaN  ...    \n",
       "\n",
       "          354   355   356   357   358   359   360   361   362   363  \n",
       "5498.75  1500  1500  1500  1500  1500  1500  1500  1500  1500  1500  \n",
       "5503.75   NaN   NaN   NaN   NaN   NaN   NaN   NaN   NaN   NaN   NaN  \n",
       "5504.75   NaN   NaN   NaN   NaN   NaN   NaN   NaN   NaN   NaN   NaN  \n",
       "5505.75   NaN   NaN   NaN   NaN   NaN   NaN   NaN   NaN   NaN   NaN  \n",
       "5506.75   NaN   NaN   NaN   NaN   NaN   NaN   NaN   NaN   NaN   NaN  \n",
       "\n",
       "[5 rows x 364 columns]"
      ]
     },
     "execution_count": 32,
     "metadata": {},
     "output_type": "execute_result"
    }
   ],
   "source": [
    "df_team_elos.head()"
   ]
  },
  {
   "cell_type": "markdown",
   "metadata": {
    "_cell_guid": "02094219-ba00-9bb9-b58c-05ac0068c59f",
    "_uuid": "081ab17175a63d85d6046fce6051f591211d0108",
    "deletable": true,
    "editable": true
   },
   "source": [
    "## The loop where it happens ##\n",
    "\n",
    "- We go through each row in the DataFrame. \n",
    "- We look up the current Elo rating of both teams. \n",
    "- We calculate the expected wins for the team that *actually won*. This is also what we use for *probability of winning*.\n",
    "- Write Elo before and after the game in the Data Frame. \n",
    "- Update the Elo rating for both teams in the \"current_elos\" list."
   ]
  },
  {
   "cell_type": "code",
   "execution_count": 33,
   "metadata": {
    "_cell_guid": "fa3bef3f-7fa7-7e5e-819e-07c0ba2645ac",
    "_uuid": "0661cb1a1c74f3d793f3a210c6432e8988f728da",
    "collapsed": false,
    "deletable": true,
    "editable": true
   },
   "outputs": [],
   "source": [
    "current_season = df_concat.at[0, 'Season']  \n",
    "for row in df_concat.itertuples():  #遍历每一行\n",
    "    if row.Season != current_season:  #如果数据不属于当前赛季\n",
    "        # Check if we are starting a new season. \n",
    "        # Regress all ratings towards the mean\n",
    "        current_elos = update_end_of_season(current_elos)\n",
    "        # Write the beginning of new season ratings to a dict for later lookups.\n",
    "        elo_per_season[row.Season] = current_elos.copy() #储存每一个赛季的平均评分\n",
    "        current_season = row.Season\n",
    "    idx = row.Index\n",
    "    w_id = row.Wteam  #获取获胜队伍的id\n",
    "    l_id = row.Lteam  #获取败北队伍的id\n",
    "    # Get current elos\n",
    "    w_elo_before = current_elos[w_id]  #获取赛前的评分\n",
    "    l_elo_before = current_elos[l_id]\n",
    "    # Update on game results\n",
    "    w_elo_after, l_elo_after = update_elo(w_elo_before, l_elo_before)  #根据比赛结果更新评分\n",
    "        \n",
    "    # 储存更新后的评分\n",
    "    df_concat.at[idx, 'w_elo_before_game'] = w_elo_before\n",
    "    df_concat.at[idx, 'l_elo_before_game'] = l_elo_before\n",
    "    df_concat.at[idx, 'w_elo_after_game'] = w_elo_after\n",
    "    df_concat.at[idx, 'l_elo_after_game'] = l_elo_after\n",
    "    current_elos[w_id] = w_elo_after\n",
    "    current_elos[l_id] = l_elo_after\n",
    "    \n",
    "    # 储存每支队伍更新后的评分\n",
    "    today = row.total_days\n",
    "    df_team_elos.at[today, w_id] = w_elo_after\n",
    "    df_team_elos.at[today, l_id] = l_elo_after\n"
   ]
  },
  {
   "cell_type": "markdown",
   "metadata": {
    "_cell_guid": "31d5a99f-f0c6-486e-c6d9-f1964c7d610d",
    "_uuid": "2084ed7f3df7cf6a9c7feffd3e6abd161940f498",
    "deletable": true,
    "editable": true
   },
   "source": [
    "## Evaluation ##\n",
    "Sample 10,000 games from recent seasons. \n",
    "Record the expected wins and use this to calculate the logloss."
   ]
  },
  {
   "cell_type": "code",
   "execution_count": 34,
   "metadata": {
    "_cell_guid": "6ac34d31-349a-aa3b-855d-19e376753e80",
    "_uuid": "782372430b3abe3a0b25e05c5626108fb0da7e8d",
    "collapsed": false,
    "deletable": true,
    "editable": true
   },
   "outputs": [
    {
     "name": "stdout",
     "output_type": "stream",
     "text": [
      "-0.564714299697\n"
     ]
    }
   ],
   "source": [
    "n_samples = 10000\n",
    "samples = df_concat[df_concat.Season > 2010].sample(n_samples)  #取2010年后10000个样本\n",
    "loss=0\n",
    "expected_list = []\n",
    "for row in samples.itertuples(): #遍历每一个样本\n",
    "    w_elo = row.w_elo_before_game\n",
    "    l_elo = row.l_elo_before_game\n",
    "    w_expected = expected_result(w_elo, l_elo)  #计算获胜队伍更新后的评分\n",
    "    expected_list.append(w_expected)\n",
    "    loss += np.log(w_expected)\n",
    "print(loss/n_samples)"
   ]
  },
  {
   "cell_type": "code",
   "execution_count": 35,
   "metadata": {
    "collapsed": false
   },
   "outputs": [
    {
     "data": {
      "text/html": [
       "<div>\n",
       "<table border=\"1\" class=\"dataframe\">\n",
       "  <thead>\n",
       "    <tr style=\"text-align: right;\">\n",
       "      <th></th>\n",
       "      <th>Season</th>\n",
       "      <th>Daynum</th>\n",
       "      <th>Wteam</th>\n",
       "      <th>Lteam</th>\n",
       "      <th>w_elo_before_game</th>\n",
       "      <th>w_elo_after_game</th>\n",
       "      <th>l_elo_before_game</th>\n",
       "      <th>l_elo_after_game</th>\n",
       "      <th>total_days</th>\n",
       "    </tr>\n",
       "  </thead>\n",
       "  <tbody>\n",
       "    <tr>\n",
       "      <th>134408</th>\n",
       "      <td>2014</td>\n",
       "      <td>128</td>\n",
       "      <td>99</td>\n",
       "      <td>105</td>\n",
       "      <td>1357</td>\n",
       "      <td>1400</td>\n",
       "      <td>1488</td>\n",
       "      <td>1444</td>\n",
       "      <td>16199.00</td>\n",
       "    </tr>\n",
       "    <tr>\n",
       "      <th>122908</th>\n",
       "      <td>2012</td>\n",
       "      <td>108</td>\n",
       "      <td>334</td>\n",
       "      <td>178</td>\n",
       "      <td>1775</td>\n",
       "      <td>1797</td>\n",
       "      <td>1666</td>\n",
       "      <td>1643</td>\n",
       "      <td>15448.50</td>\n",
       "    </tr>\n",
       "    <tr>\n",
       "      <th>139092</th>\n",
       "      <td>2015</td>\n",
       "      <td>111</td>\n",
       "      <td>348</td>\n",
       "      <td>349</td>\n",
       "      <td>1563</td>\n",
       "      <td>1595</td>\n",
       "      <td>1565</td>\n",
       "      <td>1533</td>\n",
       "      <td>16547.25</td>\n",
       "    </tr>\n",
       "    <tr>\n",
       "      <th>129648</th>\n",
       "      <td>2014</td>\n",
       "      <td>13</td>\n",
       "      <td>157</td>\n",
       "      <td>218</td>\n",
       "      <td>1551</td>\n",
       "      <td>1566</td>\n",
       "      <td>1336</td>\n",
       "      <td>1321</td>\n",
       "      <td>16084.00</td>\n",
       "    </tr>\n",
       "    <tr>\n",
       "      <th>137516</th>\n",
       "      <td>2015</td>\n",
       "      <td>79</td>\n",
       "      <td>219</td>\n",
       "      <td>131</td>\n",
       "      <td>1765</td>\n",
       "      <td>1778</td>\n",
       "      <td>1520</td>\n",
       "      <td>1508</td>\n",
       "      <td>16515.25</td>\n",
       "    </tr>\n",
       "  </tbody>\n",
       "</table>\n",
       "</div>"
      ],
      "text/plain": [
       "        Season  Daynum  Wteam  Lteam  w_elo_before_game  w_elo_after_game  \\\n",
       "134408    2014     128     99    105               1357              1400   \n",
       "122908    2012     108    334    178               1775              1797   \n",
       "139092    2015     111    348    349               1563              1595   \n",
       "129648    2014      13    157    218               1551              1566   \n",
       "137516    2015      79    219    131               1765              1778   \n",
       "\n",
       "        l_elo_before_game  l_elo_after_game  total_days  \n",
       "134408               1488              1444    16199.00  \n",
       "122908               1666              1643    15448.50  \n",
       "139092               1565              1533    16547.25  \n",
       "129648               1336              1321    16084.00  \n",
       "137516               1520              1508    16515.25  "
      ]
     },
     "execution_count": 35,
     "metadata": {},
     "output_type": "execute_result"
    }
   ],
   "source": [
    "samples.head()"
   ]
  },
  {
   "cell_type": "code",
   "execution_count": 38,
   "metadata": {
    "_cell_guid": "f32f7210-6702-2f9f-6254-4d60a284a20e",
    "_uuid": "e5a6e20e939289c32636297cee6f11cf0b1d5d0b",
    "collapsed": false,
    "deletable": true,
    "editable": true
   },
   "outputs": [],
   "source": [
    "sns.distplot(expected_list, kde=False, bins=20)\n",
    "plt.xlabel('Elo Expected Wins for Actual Winner')\n",
    "plt.ylabel('Counts')\n",
    "plt.show()"
   ]
  },
  {
   "cell_type": "markdown",
   "metadata": {
    "_cell_guid": "407fc140-a5e6-b668-f8f3-3e17bec3079a",
    "_uuid": "bf396e1b7bd09c3a4d03f455d9c9c90b019c0942",
    "deletable": true,
    "editable": true
   },
   "source": [
    "## Look at Elo ratings over time ##\n",
    "\n",
    "- Fill all the N/As with the previous Elo rating. \n",
    "- Rename the columns to a string\n",
    "- Make a new column with the datetime of the game"
   ]
  },
  {
   "cell_type": "code",
   "execution_count": 42,
   "metadata": {
    "_cell_guid": "82204427-887e-1dde-3fc3-424e721e9436",
    "_uuid": "4f1b0957fd5f7aeae0b027ac5d22cd56898f256f",
    "collapsed": true,
    "deletable": true,
    "editable": true
   },
   "outputs": [],
   "source": [
    "df_team_elos.fillna(method='ffill', inplace=True)\n",
    "trans_dict = {i: 'team_{}'.format(i) for i in range(n_teams)}\n",
    "df_team_elos.rename(columns=trans_dict, inplace=True)\n",
    "epoch = (df_team_elos.index)\n",
    "df_team_elos['date'] = pd.to_datetime(epoch, unit='D')"
   ]
  },
  {
   "cell_type": "code",
   "execution_count": null,
   "metadata": {
    "collapsed": false
   },
   "outputs": [],
   "source": []
  },
  {
   "cell_type": "code",
   "execution_count": 46,
   "metadata": {
    "_cell_guid": "fe6bcc83-5bc2-faa9-1e03-0a44319bd9c6",
    "_uuid": "8ec74b2aebdd281311e0a482dfe3bdc66341fcd6",
    "collapsed": false,
    "deletable": true,
    "editable": true
   },
   "outputs": [],
   "source": [
    "df_team_elos.plot(x='date', y=['team_1', 'team_2'])\n",
    "plt.ylabel('Elo rating')\n",
    "plt.show()"
   ]
  },
  {
   "cell_type": "code",
   "execution_count": null,
   "metadata": {
    "collapsed": true
   },
   "outputs": [],
   "source": []
  }
 ],
 "metadata": {
  "_change_revision": 0,
  "_is_fork": false,
  "kernelspec": {
   "display_name": "Python [Root]",
   "language": "python",
   "name": "Python [Root]"
  },
  "language_info": {
   "codemirror_mode": {
    "name": "ipython",
    "version": 3
   },
   "file_extension": ".py",
   "mimetype": "text/x-python",
   "name": "python",
   "nbconvert_exporter": "python",
   "pygments_lexer": "ipython3",
   "version": "3.5.2"
  }
 },
 "nbformat": 4,
 "nbformat_minor": 0
}
