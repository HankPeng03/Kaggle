{
 "cells": [
  {
   "cell_type": "markdown",
   "metadata": {
    "_cell_guid": "ddec254c-da02-ff36-c997-272477ec60a1",
    "_uuid": "dcb7c42207838844e9101868a793b04cf247e9a3",
    "deletable": true,
    "editable": true
   },
   "source": [
    "This kernel have \n",
    "\n",
    "**Data augmentation (adding reverted data) :**\n",
    "\n",
    "    Data:\n",
    "    Team1, team2, score1, score2, target    \n",
    "    Additional data:\n",
    "    Team2, team1, score2, score1, 1 - target\n",
    "\n",
    "**Prediction on two reversed test df with averaging for stability:**\n",
    "\n",
    "    Pred = [ f(team1, team2) + f(team2, team1) ] / 2\n",
    "\n",
    "**Cross validation on any year and train on fixed number of years before the test year**\n",
    "\n",
    "> Keras was used for example, however it shows stable (top 100 logloss\n",
    "> score) results for last years competitions using just one hot encoding\n",
    "> of team number"
   ]
  },
  {
   "cell_type": "code",
   "execution_count": 2,
   "metadata": {
    "_cell_guid": "54c15345-65ab-8ff5-806c-36bb8df971f5",
    "_uuid": "442fdcac007e93bd3144fe011537d5034804c49c",
    "collapsed": false,
    "deletable": true,
    "editable": true
   },
   "outputs": [],
   "source": [
    "from keras.layers import Input, Dense, Dropout, Flatten, Embedding, merge\n",
    "from keras.layers.core import Dense, Dropout, Activation\n",
    "from keras.layers.advanced_activations import PReLU\n",
    "from keras.layers.normalization import BatchNormalization\n",
    "from keras.optimizers import Adam\n",
    "from keras.models import Model\n",
    "from keras.models import Sequential\n",
    "from keras.wrappers.scikit_learn import KerasClassifier\n",
    "#from keras.regularizers import l2, activity_l2\n",
    "from keras.utils import np_utils, generic_utils"
   ]
  },
  {
   "cell_type": "code",
   "execution_count": 3,
   "metadata": {
    "_cell_guid": "3e802566-310f-dd0e-21f6-c4bf0d993289",
    "_uuid": "71609845f1c8e5c9d88503e00a11a1660801aa85",
    "collapsed": true,
    "deletable": true,
    "editable": true
   },
   "outputs": [],
   "source": [
    "import numpy as np\n",
    "import pandas as pd\n",
    "import matplotlib.pyplot as plt\n",
    "from sklearn.metrics import log_loss\n",
    "import random\n",
    "from sklearn.preprocessing import OneHotEncoder\n",
    "%matplotlib inline"
   ]
  },
  {
   "cell_type": "code",
   "execution_count": 6,
   "metadata": {
    "_cell_guid": "ad346634-1d01-135d-368a-1ba19b3068bc",
    "_uuid": "6700917b373c24113047f0e17d5688e5a0ff829a",
    "collapsed": false,
    "deletable": true,
    "editable": true
   },
   "outputs": [],
   "source": [
    "RegularSeasonDetailedResults = pd.read_csv('RegularSeasonDetailedResults.csv')\n",
    "TourneyDetailedResults = pd.read_csv('TourneyDetailedResults.csv')\n",
    "Teams = pd.read_csv('Teams.csv')"
   ]
  },
  {
   "cell_type": "code",
   "execution_count": 7,
   "metadata": {
    "_cell_guid": "054762a0-608b-f284-72ed-945c0aac7134",
    "_uuid": "3897ff6110e564ac356042a2e448f1cda4814fcc",
    "collapsed": true,
    "deletable": true,
    "editable": true
   },
   "outputs": [],
   "source": [
    "#union TourneyDetailedResults and RegularSeasonDetailedResults in one for training\n",
    "TourneyDetailedResults['Table'] = 'Tourney'\n",
    "RegularSeasonDetailedResults['Table'] = 'Regular'\n",
    "\n",
    "union = pd.concat([TourneyDetailedResults,RegularSeasonDetailedResults],axis =0, ignore_index=True)\n",
    "union=union.reset_index()\n",
    "del TourneyDetailedResults,RegularSeasonDetailedResults"
   ]
  },
  {
   "cell_type": "code",
   "execution_count": 8,
   "metadata": {
    "collapsed": false
   },
   "outputs": [
    {
     "data": {
      "text/html": [
       "<div>\n",
       "<table border=\"1\" class=\"dataframe\">\n",
       "  <thead>\n",
       "    <tr style=\"text-align: right;\">\n",
       "      <th></th>\n",
       "      <th>index</th>\n",
       "      <th>Season</th>\n",
       "      <th>Daynum</th>\n",
       "      <th>Wteam</th>\n",
       "      <th>Wscore</th>\n",
       "      <th>Lteam</th>\n",
       "      <th>Lscore</th>\n",
       "      <th>Wloc</th>\n",
       "      <th>Numot</th>\n",
       "      <th>Wfgm</th>\n",
       "      <th>...</th>\n",
       "      <th>Lftm</th>\n",
       "      <th>Lfta</th>\n",
       "      <th>Lor</th>\n",
       "      <th>Ldr</th>\n",
       "      <th>Last</th>\n",
       "      <th>Lto</th>\n",
       "      <th>Lstl</th>\n",
       "      <th>Lblk</th>\n",
       "      <th>Lpf</th>\n",
       "      <th>Table</th>\n",
       "    </tr>\n",
       "  </thead>\n",
       "  <tbody>\n",
       "    <tr>\n",
       "      <th>0</th>\n",
       "      <td>0</td>\n",
       "      <td>2003</td>\n",
       "      <td>134</td>\n",
       "      <td>1421</td>\n",
       "      <td>92</td>\n",
       "      <td>1411</td>\n",
       "      <td>84</td>\n",
       "      <td>N</td>\n",
       "      <td>1</td>\n",
       "      <td>32</td>\n",
       "      <td>...</td>\n",
       "      <td>14</td>\n",
       "      <td>31</td>\n",
       "      <td>17</td>\n",
       "      <td>28</td>\n",
       "      <td>16</td>\n",
       "      <td>15</td>\n",
       "      <td>5</td>\n",
       "      <td>0</td>\n",
       "      <td>22</td>\n",
       "      <td>Tourney</td>\n",
       "    </tr>\n",
       "    <tr>\n",
       "      <th>1</th>\n",
       "      <td>1</td>\n",
       "      <td>2003</td>\n",
       "      <td>136</td>\n",
       "      <td>1112</td>\n",
       "      <td>80</td>\n",
       "      <td>1436</td>\n",
       "      <td>51</td>\n",
       "      <td>N</td>\n",
       "      <td>0</td>\n",
       "      <td>31</td>\n",
       "      <td>...</td>\n",
       "      <td>7</td>\n",
       "      <td>7</td>\n",
       "      <td>8</td>\n",
       "      <td>26</td>\n",
       "      <td>12</td>\n",
       "      <td>17</td>\n",
       "      <td>10</td>\n",
       "      <td>3</td>\n",
       "      <td>15</td>\n",
       "      <td>Tourney</td>\n",
       "    </tr>\n",
       "    <tr>\n",
       "      <th>2</th>\n",
       "      <td>2</td>\n",
       "      <td>2003</td>\n",
       "      <td>136</td>\n",
       "      <td>1113</td>\n",
       "      <td>84</td>\n",
       "      <td>1272</td>\n",
       "      <td>71</td>\n",
       "      <td>N</td>\n",
       "      <td>0</td>\n",
       "      <td>31</td>\n",
       "      <td>...</td>\n",
       "      <td>14</td>\n",
       "      <td>21</td>\n",
       "      <td>20</td>\n",
       "      <td>22</td>\n",
       "      <td>11</td>\n",
       "      <td>12</td>\n",
       "      <td>2</td>\n",
       "      <td>5</td>\n",
       "      <td>18</td>\n",
       "      <td>Tourney</td>\n",
       "    </tr>\n",
       "    <tr>\n",
       "      <th>3</th>\n",
       "      <td>3</td>\n",
       "      <td>2003</td>\n",
       "      <td>136</td>\n",
       "      <td>1141</td>\n",
       "      <td>79</td>\n",
       "      <td>1166</td>\n",
       "      <td>73</td>\n",
       "      <td>N</td>\n",
       "      <td>0</td>\n",
       "      <td>29</td>\n",
       "      <td>...</td>\n",
       "      <td>12</td>\n",
       "      <td>17</td>\n",
       "      <td>14</td>\n",
       "      <td>17</td>\n",
       "      <td>20</td>\n",
       "      <td>21</td>\n",
       "      <td>6</td>\n",
       "      <td>6</td>\n",
       "      <td>21</td>\n",
       "      <td>Tourney</td>\n",
       "    </tr>\n",
       "    <tr>\n",
       "      <th>4</th>\n",
       "      <td>4</td>\n",
       "      <td>2003</td>\n",
       "      <td>136</td>\n",
       "      <td>1143</td>\n",
       "      <td>76</td>\n",
       "      <td>1301</td>\n",
       "      <td>74</td>\n",
       "      <td>N</td>\n",
       "      <td>1</td>\n",
       "      <td>27</td>\n",
       "      <td>...</td>\n",
       "      <td>15</td>\n",
       "      <td>20</td>\n",
       "      <td>10</td>\n",
       "      <td>26</td>\n",
       "      <td>16</td>\n",
       "      <td>14</td>\n",
       "      <td>5</td>\n",
       "      <td>8</td>\n",
       "      <td>19</td>\n",
       "      <td>Tourney</td>\n",
       "    </tr>\n",
       "  </tbody>\n",
       "</table>\n",
       "<p>5 rows × 36 columns</p>\n",
       "</div>"
      ],
      "text/plain": [
       "   index  Season  Daynum  Wteam  Wscore  Lteam  Lscore Wloc  Numot  Wfgm  \\\n",
       "0      0    2003     134   1421      92   1411      84    N      1    32   \n",
       "1      1    2003     136   1112      80   1436      51    N      0    31   \n",
       "2      2    2003     136   1113      84   1272      71    N      0    31   \n",
       "3      3    2003     136   1141      79   1166      73    N      0    29   \n",
       "4      4    2003     136   1143      76   1301      74    N      1    27   \n",
       "\n",
       "    ...     Lftm  Lfta  Lor  Ldr  Last  Lto  Lstl  Lblk  Lpf    Table  \n",
       "0   ...       14    31   17   28    16   15     5     0   22  Tourney  \n",
       "1   ...        7     7    8   26    12   17    10     3   15  Tourney  \n",
       "2   ...       14    21   20   22    11   12     2     5   18  Tourney  \n",
       "3   ...       12    17   14   17    20   21     6     6   21  Tourney  \n",
       "4   ...       15    20   10   26    16   14     5     8   19  Tourney  \n",
       "\n",
       "[5 rows x 36 columns]"
      ]
     },
     "execution_count": 8,
     "metadata": {},
     "output_type": "execute_result"
    }
   ],
   "source": [
    "union.head()"
   ]
  },
  {
   "cell_type": "markdown",
   "metadata": {
    "_cell_guid": "4319cff8-69ed-e112-918b-90e733c96c74",
    "_uuid": "76235c4e7833910759cf3652aaf78e8053500fdc",
    "deletable": true,
    "editable": true
   },
   "source": [
    "**Data Augmentation. Adding Reverse Data**"
   ]
  },
  {
   "cell_type": "code",
   "execution_count": null,
   "metadata": {
    "_cell_guid": "cb8e931c-c680-45b7-31e7-0c1ab867772c",
    "_uuid": "74e65c52e19e3c059891c0c500f39baf3176ba6d",
    "collapsed": true,
    "deletable": true,
    "editable": true
   },
   "outputs": [],
   "source": [
    "def test_train_split(year,df,shift=99):\n",
    "    '''拆分出训练数据集与测试数据集'''\n",
    "    msk_test_year = df.Season==year\n",
    "    msk_Tourney = df.Table == 'Tourney'  #锦标赛\n",
    "    msk_Regular = df.Table == 'Regular'  #常规赛\n",
    "    \n",
    "    msk_train_yearmin = df.Season>(year-shift) \n",
    "    msk_train_yearmax_soft = df.Season<=year\n",
    "    msk_train_yearmax = df.Season<year    \n",
    "    test = df[msk_test_year & msk_Tourney]\n",
    "    \n",
    "    train = df[(msk_Tourney & msk_train_yearmax & msk_train_yearmin) | \n",
    "                  (msk_Regular & msk_train_yearmax_soft & msk_train_yearmin) ]\n",
    "    return test, train"
   ]
  },
  {
   "cell_type": "code",
   "execution_count": null,
   "metadata": {
    "_cell_guid": "2ecc09b0-a4c0-b6ee-300a-622dc4dabe86",
    "_uuid": "995b4c4f02918de16bd60f80282b57f273e4dd86",
    "collapsed": true,
    "deletable": true,
    "editable": true
   },
   "outputs": [],
   "source": [
    "def df_shuffle(df,cols_middle,cols_right,cols_left):\n",
    "    cols = []\n",
    "    cols.extend(cols_middle)\n",
    "    cols.extend(cols_right)\n",
    "    cols.extend(cols_left)\n",
    "    \n",
    "    cols_rev = []\n",
    "    cols_rev.extend(cols_middle)\n",
    "    cols_rev.extend(cols_left)\n",
    "    cols_rev.extend(cols_right)\n",
    "    \n",
    "    df_sample = pd.DataFrame()\n",
    "    df_sample = df[cols].copy()\n",
    "    \n",
    "    df_rev = pd.DataFrame()\n",
    "    df_rev[cols] =df[cols_rev].copy()\n",
    "    \n",
    "    msk = np.random.choice(df_sample.index,int(len(df)/2))\n",
    "    \n",
    "    df_sample['Score_diff'] = df_sample.Wscore - df_sample.Lscore\n",
    "    df_rev['Score_diff'] = df_rev.Wscore - df_rev.Lscore\n",
    "    \n",
    "    df_sample.loc[msk],df_rev.loc[msk] = df_rev.loc[msk],df_sample.loc[msk]\n",
    "    return df_sample,df_rev"
   ]
  },
  {
   "cell_type": "code",
   "execution_count": null,
   "metadata": {
    "_cell_guid": "9c38744c-239a-5d76-59f3-a95373b30888",
    "_uuid": "7bb40fb3012abbcab4323d5dd09f751862c75dea",
    "collapsed": true,
    "deletable": true,
    "editable": true
   },
   "outputs": [],
   "source": [
    "col_W = []\n",
    "col_L = []\n",
    "col_R =[]\n",
    "for col in union.columns:\n",
    "    if (col[0]=='W') & (col!='Wloc'):\n",
    "        col_W.append(col)\n",
    "    elif col[0]=='L':\n",
    "        col_L.append(col)\n",
    "    else:\n",
    "        col_R.append(col)"
   ]
  },
  {
   "cell_type": "code",
   "execution_count": null,
   "metadata": {
    "_cell_guid": "f2c8b417-361c-0851-e0fb-0f18e3e8310a",
    "_uuid": "b32713e1d9301cced4f429dfc40e9c95d375befc",
    "collapsed": true,
    "deletable": true,
    "editable": true
   },
   "outputs": [],
   "source": [
    "col_under =[]\n",
    "for col in union.columns:\n",
    "    if (col[1]=='_'):\n",
    "        col_under.append(col)"
   ]
  },
  {
   "cell_type": "code",
   "execution_count": null,
   "metadata": {
    "_cell_guid": "d1603cf2-4a80-cef5-1791-157111858976",
    "_uuid": "2e915466f165733ce68464aaf6a1c016d668feaa",
    "collapsed": true,
    "deletable": true,
    "editable": true
   },
   "outputs": [],
   "source": [
    "#shuffle (switch winning team and loosing team in 50% cases) union df = union_st\n",
    "#and makу reverse df  = union_rev\n",
    "random.seed(a=123)\n",
    "union_st,union_rev = df_shuffle(union,col_R,col_W,col_L)"
   ]
  },
  {
   "cell_type": "code",
   "execution_count": null,
   "metadata": {
    "_cell_guid": "dc64db8f-a9fb-b2c2-782f-96095f5f5c5d",
    "_uuid": "efe2036c5cd18c9861945b45bbf4b9db87743ae4",
    "collapsed": true,
    "deletable": true,
    "editable": true
   },
   "outputs": [],
   "source": [
    "#if you want to train only on Tourney data, run:\n",
    "\n",
    "# union_st = union_st[union_st.Table == 'Tourney']\n",
    "# union_rev = union_rev[union_rev.Table == 'Tourney']"
   ]
  },
  {
   "cell_type": "code",
   "execution_count": null,
   "metadata": {
    "_cell_guid": "749b4d7c-25ca-8060-53d0-95a99a5b5e46",
    "_uuid": "90439567c1bfe0db6d2b7f7048ce5a3eca31b538",
    "collapsed": true,
    "deletable": true,
    "editable": true
   },
   "outputs": [],
   "source": [
    "#make train and test df. \n",
    "year = 2016 #for test df - tourney data from year 2016 \n",
    "shift = 6 #number of years to use in training\n",
    "#change these parameters for validation on different year\n",
    "\n",
    "test, train = test_train_split(year,union_st,shift) \n",
    "test_rev, train_rev = test_train_split(year,union_rev,shift) # need predict for two df and average results for stability\n",
    "train = pd.concat([train,train_rev], axis=0) #train df have augmented data (+ reversed)\n",
    "del train_rev"
   ]
  },
  {
   "cell_type": "code",
   "execution_count": null,
   "metadata": {
    "_cell_guid": "848753ca-b20b-c526-a11f-9c484738aeac",
    "_uuid": "822157ca4303e4a813967759a06d27f588c9c4fe",
    "collapsed": true,
    "deletable": true,
    "editable": true
   },
   "outputs": [],
   "source": [
    "train[['Season','Table','Score_diff']].groupby(['Season','Table']).count()"
   ]
  },
  {
   "cell_type": "code",
   "execution_count": null,
   "metadata": {
    "_cell_guid": "92cb060c-1d51-2f09-31e4-8ecf5b3d2370",
    "_uuid": "72d91e3c288a3ddc1b7853e7937d8ef6c885a9a7",
    "collapsed": true,
    "deletable": true,
    "editable": true
   },
   "outputs": [],
   "source": [
    "test[['Season','Table','Score_diff']].groupby(['Season','Table']).count()"
   ]
  },
  {
   "cell_type": "markdown",
   "metadata": {
    "_cell_guid": "20b63755-ab1c-db70-c2cb-064a1eb943d3",
    "_uuid": "5dbf8082c65a9a6642572b95331c7923c8a069a6",
    "deletable": true,
    "editable": true
   },
   "source": [
    "## onehotencoding teams"
   ]
  },
  {
   "cell_type": "code",
   "execution_count": null,
   "metadata": {
    "_cell_guid": "bc6618eb-0616-ebe4-d838-bf7468b16821",
    "_uuid": "a0084218b8aa08cbc2bbf162362c54143e321cc2",
    "collapsed": true,
    "deletable": true,
    "editable": true
   },
   "outputs": [],
   "source": [
    "teams_encoder = OneHotEncoder(sparse=False)\n",
    "teams_encoder.fit(Teams[['Team_Id']])"
   ]
  },
  {
   "cell_type": "code",
   "execution_count": null,
   "metadata": {
    "_cell_guid": "f7d44635-6dfa-508a-2c62-c377e106f42f",
    "_uuid": "9158d4260c0475820af2e49ab13fb933e0abd7e5",
    "collapsed": true,
    "deletable": true,
    "editable": true
   },
   "outputs": [],
   "source": [
    "train_ohe = np.hstack((teams_encoder.transform(train[['Wteam']]),teams_encoder.transform(train[['Lteam']])))\n",
    "test_ohe = np.hstack((teams_encoder.transform(test[['Wteam']]),teams_encoder.transform(test[['Lteam']])))\n",
    "test_rev_ohe = np.hstack((teams_encoder.transform(test_rev[['Wteam']]),teams_encoder.transform(test_rev[['Lteam']])))"
   ]
  },
  {
   "cell_type": "markdown",
   "metadata": {
    "_cell_guid": "b8702cab-f914-c61c-4388-224123a3dc87",
    "_uuid": "9fe6ad4c9f9fc4c9145b6b617a39c3bfef06fa0a",
    "deletable": true,
    "editable": true
   },
   "source": [
    "## Keras model + validation"
   ]
  },
  {
   "cell_type": "code",
   "execution_count": null,
   "metadata": {
    "_cell_guid": "fdbd48a3-4331-793d-416e-f73632c3c1df",
    "_uuid": "b34d6c459e333bd9f02d83e8ff890bf502e53d24",
    "collapsed": true,
    "deletable": true,
    "editable": true
   },
   "outputs": [],
   "source": [
    "target_train = (train.Score_diff>0).astype(int) \n",
    "target_test = (test.Score_diff>0).astype(int) \n",
    "target_rev_test = (test_rev.Score_diff>0).astype(int) "
   ]
  },
  {
   "cell_type": "code",
   "execution_count": null,
   "metadata": {
    "_cell_guid": "0029d833-f29a-2083-3ebb-e1223628914e",
    "_uuid": "83f700248343e24db2f5f266a4379c62184ed9e5",
    "collapsed": true,
    "deletable": true,
    "editable": true
   },
   "outputs": [],
   "source": [
    "target_train = np_utils.to_categorical(target_train.reset_index(drop=True))\n",
    "target_test = np_utils.to_categorical(target_test.reset_index(drop=True))\n",
    "target_rev_test = np_utils.to_categorical(target_rev_test.reset_index(drop=True))"
   ]
  },
  {
   "cell_type": "code",
   "execution_count": null,
   "metadata": {
    "_cell_guid": "6f1fd64e-d7a3-f423-030c-d8aea40a0800",
    "_uuid": "5898050f9195be7394aafbe06b9a00c91bd60f32",
    "collapsed": true,
    "deletable": true,
    "editable": true
   },
   "outputs": [],
   "source": [
    "dims = train_ohe.shape[1]\n",
    "print(dims, 'dims')\n",
    "\n",
    "model = Sequential()\n",
    "model.add(Dense(68, input_shape=(dims,)))\n",
    "model.add(Dropout(0.2))#    input dropout\n",
    "model.add(BatchNormalization())\n",
    "model.add(PReLU())\n",
    "\n",
    "model.add(Dense(68))\n",
    "model.add(Dropout(0.1))\n",
    "model.add(BatchNormalization())\n",
    "model.add(PReLU())\n",
    "\n",
    "model.add(Dense(16))\n",
    "model.add(Dropout(0.1))\n",
    "model.add(BatchNormalization())\n",
    "model.add(PReLU())\n",
    "\n",
    "\n",
    "model.add(Dense(16))\n",
    "model.add(Dropout(0.1))\n",
    "model.add(BatchNormalization())\n",
    "model.add(PReLU())\n",
    "\n",
    "model.add(Dense(2))\n",
    "model.add(Activation('softmax'))\n",
    "#opt=SGD(momentum=0.9)\n",
    "model.compile(loss='binary_crossentropy', optimizer=\"sgd\")"
   ]
  },
  {
   "cell_type": "code",
   "execution_count": null,
   "metadata": {
    "_cell_guid": "f3c55aa4-f41f-c781-c87e-a5292bbf0303",
    "_uuid": "ec7c696b8c1f9b16f4b74004b7613e741d429f70",
    "collapsed": true,
    "deletable": true,
    "editable": true
   },
   "outputs": [],
   "source": [
    "print('Training model...')\n",
    "nb_epoch=100\n",
    "logloss_scores=[]  \n",
    "logloss_scores_rev=[]   \n",
    "logloss_scores_avg=[]  \n",
    "logloss_scores_tr=[]    \n",
    "for i in range(nb_epoch):\n",
    "    model.fit(train_ohe, target_train, nb_epoch=1,batch_size=128,verbose= 0)\n",
    "\n",
    "    y_pre = model.predict(test_ohe, verbose= 0)\n",
    "    scores = log_loss(target_test,y_pre)\n",
    "    logloss_scores.append(scores)\n",
    "\n",
    "    y_pre_rev = model.predict(test_rev_ohe,verbose= 0)\n",
    "    scores_rev = log_loss(target_rev_test,y_pre_rev)\n",
    "    logloss_scores_rev.append(scores_rev)\n",
    "\n",
    "    scores_avg = log_loss(target_test,(y_pre+1-y_pre_rev)/2)\n",
    "    logloss_scores_avg.append(scores_avg)\n",
    "\n",
    "    y_pre_tr = model.predict(train_ohe,verbose= 0)\n",
    "    scores_tr = log_loss(target_train,y_pre_tr)\n",
    "    logloss_scores_tr.append(scores_tr)\n",
    "print('Done')"
   ]
  },
  {
   "cell_type": "markdown",
   "metadata": {
    "_cell_guid": "4c962115-e761-7db4-f7d0-1e7318c0297f",
    "_uuid": "02b2dce0e89a35a45c00d915b1115dd53ad712ef",
    "deletable": true,
    "editable": true
   },
   "source": [
    "# 2016\n",
    "https://www.kaggle.com/c/march-machine-learning-mania-2016/leaderboard\n",
    "\n",
    "top1   0.481310\n",
    "\n",
    "top50  0.541537\n",
    "\n",
    "top100 0.551282\n",
    "\n",
    "Median Submission Benchmark 0.558719"
   ]
  },
  {
   "cell_type": "code",
   "execution_count": null,
   "metadata": {
    "_cell_guid": "967c6ea4-77ef-0c2e-6e91-da02a7c296ec",
    "_uuid": "ba7be249e479e086f3dceafd46c64ae516b6967a",
    "collapsed": true,
    "deletable": true,
    "editable": true
   },
   "outputs": [],
   "source": [
    "#2016 (ohe, 6 years shift, with regular season)\n",
    "\n",
    "plt.plot(logloss_scores,'b') #test log_loss\n",
    "plt.plot(logloss_scores_rev,'g') #test log_loss for reversed data\n",
    "plt.plot(logloss_scores_avg, 'r') #average test log_loss\n",
    "plt.plot(logloss_scores_tr,'y--')  #train log_loss\n",
    "plt.ylim((0.45,0.65))\n",
    "plt.axhline(y= 0.481310, color='gray', linestyle='--') #top 1\n",
    "plt.axhline(y= 0.541537, color='gray', linestyle='--') #top 50\n",
    "plt.axhline(y= 0.551282, color='gray', linestyle='--') #top 100"
   ]
  },
  {
   "cell_type": "code",
   "execution_count": null,
   "metadata": {
    "_cell_guid": "3db0a377-0168-0e73-fdad-f1156802d2f8",
    "_uuid": "f3ad2e30417b6b18b25ebdcab8c6be93c7849783",
    "collapsed": true,
    "deletable": true,
    "editable": true
   },
   "outputs": [],
   "source": []
  }
 ],
 "metadata": {
  "_change_revision": 0,
  "_is_fork": false,
  "anaconda-cloud": {},
  "kernelspec": {
   "display_name": "Python [Root]",
   "language": "python",
   "name": "Python [Root]"
  },
  "language_info": {
   "codemirror_mode": {
    "name": "ipython",
    "version": 3
   },
   "file_extension": ".py",
   "mimetype": "text/x-python",
   "name": "python",
   "nbconvert_exporter": "python",
   "pygments_lexer": "ipython3",
   "version": "3.5.2"
  }
 },
 "nbformat": 4,
 "nbformat_minor": 0
}
