{
 "cells": [
  {
   "cell_type": "code",
   "execution_count": 80,
   "metadata": {
    "collapsed": false,
    "deletable": true,
    "editable": true
   },
   "outputs": [],
   "source": [
    "import os\n",
    "import pandas as pd\n",
    "import numpy as np\n",
    "import random\n",
    "import matplotlib.pyplot as plt\n",
    "from sklearn.ensemble import RandomForestRegressor\n",
    "from sklearn.ensemble import GradientBoostingRegressor\n",
    "from sklearn.ensemble import  VotingClassifier\n",
    "from sklearn.model_selection import  cross_val_score\n",
    "from sklearn.tree import DecisionTreeRegressor\n",
    "from sklearn.metrics import  r2_score\n",
    "from sklearn.metrics import  mean_squared_error\n",
    "from sklearn.model_selection import cross_val_score"
   ]
  },
  {
   "cell_type": "code",
   "execution_count": 48,
   "metadata": {
    "collapsed": false,
    "deletable": true,
    "editable": true
   },
   "outputs": [],
   "source": [
    "def convet(df):\n",
    "    #convet the categorical data to numeric data\n",
    "    train_data=df.copy()\n",
    "    for col in train_data.columns:\n",
    "        if train_data[col].dtype=='O':\n",
    "            n=1  #the number replacing the categorical data\n",
    "            for value in set(train_data[col]):\n",
    "                train_data.ix[train_data[col]==value,col]=n\n",
    "                n+=1\n",
    "    return(train_data)\n"
   ]
  },
  {
   "cell_type": "code",
   "execution_count": 49,
   "metadata": {
    "collapsed": true,
    "deletable": true,
    "editable": true
   },
   "outputs": [],
   "source": [
    "df_train=pd.read_csv('train.csv')\n",
    "test_data=pd.read_csv('test.csv')"
   ]
  },
  {
   "cell_type": "code",
   "execution_count": 50,
   "metadata": {
    "collapsed": false,
    "deletable": true,
    "editable": true
   },
   "outputs": [],
   "source": [
    "#prepare the data for training\n",
    "index=list(df_train.columns)\n",
    "train_data=df_train[index[:-1]]\n",
    "train_label=df_train[index[-1]]"
   ]
  },
  {
   "cell_type": "code",
   "execution_count": 51,
   "metadata": {
    "collapsed": false,
    "deletable": true,
    "editable": true
   },
   "outputs": [
    {
     "name": "stdout",
     "output_type": "stream",
     "text": [
      "Index(['Alley', 'PoolQC', 'Fence', 'MiscFeature'], dtype='object')\n",
      "Index(['Alley', 'FireplaceQu', 'PoolQC', 'Fence', 'MiscFeature'], dtype='object')\n",
      "{'BsmtHalfBath', 'PoolQC', 'GarageYrBlt', 'MiscVal', 'Functional', 'RoofMatl', 'GarageCond', 'Alley', 'BsmtFullBath', 'BsmtFinSF1', 'WoodDeckSF', 'MiscFeature', 'Utilities', 'LowQualFinSF', 'OpenPorchSF', 'BsmtUnfSF', 'EnclosedPorch', 'PoolArea', 'MasVnrArea', 'GarageArea', 'Fence', 'FireplaceQu', 'Heating', 'BsmtFinSF2', '3SsnPorch', 'ScreenPorch'}\n"
     ]
    }
   ],
   "source": [
    "#decide to get rid of features that have more than half of missing informations\n",
    "NAs=pd.concat([train_data.isnull().sum(),test_data.isnull().sum()],axis=1,keys=['train','test'])\n",
    "#the featrues to be gotted rid of in training data\n",
    "feature1 =train_data.columns[train_data.isnull().sum()/train_data.shape[0]>0.5]\n",
    "#the featrues to be gotted rid of in testing data\n",
    "feature2 =test_data.columns[test_data.isnull().sum()/test_data.shape[0]>0.5]\n",
    "#the featrues unioning the features removed in training data and those in testing data\n",
    "features_unioned=set.union(set(feature1),set(feature2),set(['Utilities', 'RoofMatl', 'MasVnrArea', 'BsmtFinSF1', 'BsmtFinSF2', 'BsmtUnfSF', 'Heating', 'LowQualFinSF',\n",
    "               'BsmtFullBath', 'BsmtHalfBath', 'Functional', 'GarageYrBlt', 'GarageArea', 'GarageCond', 'WoodDeckSF',\n",
    "               'OpenPorchSF', 'EnclosedPorch', '3SsnPorch', 'ScreenPorch', 'PoolArea', 'PoolQC', 'Fence', 'MiscFeature', 'MiscVal']))\n",
    "print(feature1)\n",
    "print(feature2)\n",
    "print(features_unioned)\n",
    "#trainging data and testing data that features having more than half of missing values have been gotten rid of \n",
    "train_data=train_data[train_data.columns.difference(list(features_unioned))]\n",
    "test_data=test_data[test_data.columns.difference(list(features_unioned))]"
   ]
  },
  {
   "cell_type": "markdown",
   "metadata": {
    "deletable": true,
    "editable": true
   },
   "source": [
    "fill the missing values in train data"
   ]
  },
  {
   "cell_type": "code",
   "execution_count": 52,
   "metadata": {
    "collapsed": false,
    "deletable": true,
    "editable": true
   },
   "outputs": [],
   "source": [
    "# MSSubClass as str\n",
    "features=train_data.copy()\n",
    "features['MSSubClass'] = features['MSSubClass'].astype(str)\n",
    "\n",
    "# MSZoning NA in pred. filling with most popular values\n",
    "features['MSZoning'] = features['MSZoning'].fillna(features['MSZoning'].mode()[0])\n",
    "\n",
    "# LotFrontage  NA in all. I suppose NA means 0\n",
    "features['LotFrontage'] = features['LotFrontage'].fillna(features['LotFrontage'].mean())\n",
    "\n",
    "# Alley  NA in all. NA means no access\n",
    "#features['Alley'] = features['Alley'].fillna('NOACCESS')\n",
    "\n",
    "# Converting OverallCond to str\n",
    "features.OverallCond = features.OverallCond.astype(str)\n",
    "\n",
    "# MasVnrType NA in all. filling with most popular values\n",
    "features['MasVnrType'] = features['MasVnrType'].fillna(features['MasVnrType'].mode()[0])\n",
    "\n",
    "# BsmtQual, BsmtCond, BsmtExposure, BsmtFinType1, BsmtFinType2\n",
    "# NA in all. NA means No basement\n",
    "for col in ('BsmtQual', 'BsmtCond', 'BsmtExposure', 'BsmtFinType1', 'BsmtFinType2'):\n",
    "    features[col] = features[col].fillna('NoBSMT')\n",
    "\n",
    "# TotalBsmtSF  NA in pred. I suppose NA means 0\n",
    "features['TotalBsmtSF'] = features['TotalBsmtSF'].fillna(0)\n",
    "\n",
    "# Electrical NA in pred. filling with most popular values\n",
    "features['Electrical'] = features['Electrical'].fillna(features['Electrical'].mode()[0])\n",
    "\n",
    "# KitchenAbvGr to categorical\n",
    "features['KitchenAbvGr'] = features['KitchenAbvGr'].astype(str)\n",
    "\n",
    "# KitchenQual NA in pred. filling with most popular values\n",
    "features['KitchenQual'] = features['KitchenQual'].fillna(features['KitchenQual'].mode()[0])\n",
    "\n",
    "# FireplaceQu  NA in all. NA means No Fireplace\n",
    "#features['FireplaceQu'] = features['FireplaceQu'].fillna('NoFP')\n",
    "\n",
    "# GarageType, GarageFinish, GarageQual  NA in all. NA means No Garage\n",
    "for col in ('GarageType', 'GarageFinish', 'GarageQual'):\n",
    "    features[col] = features[col].fillna('NoGRG')\n",
    "\n",
    "# GarageCars  NA in pred. I suppose NA means 0\n",
    "features['GarageCars'] = features['GarageCars'].fillna(0.0)\n",
    "\n",
    "# SaleType NA in pred. filling with most popular values\n",
    "features['SaleType'] = features['SaleType'].fillna(features['SaleType'].mode()[0])\n",
    "\n",
    "# Year and Month to categorical\n",
    "features['YrSold'] = features['YrSold'].astype(str)\n",
    "features['MoSold'] = features['MoSold'].astype(str)\n",
    "\n",
    "# Adding total sqfootage feature and removing Basement, 1st and 2nd floor features\n",
    "features['TotalSF'] = features['TotalBsmtSF'] + features['1stFlrSF'] + features['2ndFlrSF']\n",
    "features.drop(['TotalBsmtSF', '1stFlrSF', '2ndFlrSF'], axis=1, inplace=True)\n",
    "train_data=features"
   ]
  },
  {
   "cell_type": "markdown",
   "metadata": {
    "deletable": true,
    "editable": true
   },
   "source": [
    "fill the missing value in test data"
   ]
  },
  {
   "cell_type": "code",
   "execution_count": 53,
   "metadata": {
    "collapsed": true,
    "deletable": true,
    "editable": true
   },
   "outputs": [],
   "source": [
    "# MSSubClass as str\n",
    "features=test_data.copy()\n",
    "features['MSSubClass'] = features['MSSubClass'].astype(str)\n",
    "\n",
    "# MSZoning NA in pred. filling with most popular values\n",
    "features['MSZoning'] = features['MSZoning'].fillna(features['MSZoning'].mode()[0])\n",
    "\n",
    "# LotFrontage  NA in all. I suppose NA means 0\n",
    "features['LotFrontage'] = features['LotFrontage'].fillna(features['LotFrontage'].mean())\n",
    "\n",
    "# Alley  NA in all. NA means no access\n",
    "#features['Alley'] = features['Alley'].fillna('NOACCESS')\n",
    "\n",
    "# Converting OverallCond to str\n",
    "features.OverallCond = features.OverallCond.astype(str)\n",
    "\n",
    "# MasVnrType NA in all. filling with most popular values\n",
    "features['MasVnrType'] = features['MasVnrType'].fillna(features['MasVnrType'].mode()[0])\n",
    "\n",
    "# BsmtQual, BsmtCond, BsmtExposure, BsmtFinType1, BsmtFinType2\n",
    "# NA in all. NA means No basement\n",
    "for col in ('BsmtQual', 'BsmtCond', 'BsmtExposure', 'BsmtFinType1', 'BsmtFinType2'):\n",
    "    features[col] = features[col].fillna('NoBSMT')\n",
    "\n",
    "# TotalBsmtSF  NA in pred. I suppose NA means 0\n",
    "features['TotalBsmtSF'] = features['TotalBsmtSF'].fillna(0)\n",
    "\n",
    "# Electrical NA in pred. filling with most popular values\n",
    "features['Electrical'] = features['Electrical'].fillna(features['Electrical'].mode()[0])\n",
    "\n",
    "# KitchenAbvGr to categorical\n",
    "features['KitchenAbvGr'] = features['KitchenAbvGr'].astype(str)\n",
    "\n",
    "# KitchenQual NA in pred. filling with most popular values\n",
    "features['KitchenQual'] = features['KitchenQual'].fillna(features['KitchenQual'].mode()[0])\n",
    "\n",
    "# FireplaceQu  NA in all. NA means No Fireplace\n",
    "#features['FireplaceQu'] = features['FireplaceQu'].fillna('NoFP')\n",
    "\n",
    "# GarageType, GarageFinish, GarageQual  NA in all. NA means No Garage\n",
    "for col in ('GarageType', 'GarageFinish', 'GarageQual'):\n",
    "    features[col] = features[col].fillna('NoGRG')\n",
    "\n",
    "# GarageCars  NA in pred. I suppose NA means 0\n",
    "features['GarageCars'] = features['GarageCars'].fillna(0.0)\n",
    "\n",
    "# SaleType NA in pred. filling with most popular values\n",
    "features['SaleType'] = features['SaleType'].fillna(features['SaleType'].mode()[0])\n",
    "\n",
    "# Year and Month to categorical\n",
    "features['YrSold'] = features['YrSold'].astype(str)\n",
    "features['MoSold'] = features['MoSold'].astype(str)\n",
    "\n",
    "# Adding total sqfootage feature and removing Basement, 1st and 2nd floor features\n",
    "features['TotalSF'] = features['TotalBsmtSF'] + features['1stFlrSF'] + features['2ndFlrSF']\n",
    "features.drop(['TotalBsmtSF', '1stFlrSF', '2ndFlrSF'], axis=1, inplace=True)\n",
    "test_data=features"
   ]
  },
  {
   "cell_type": "code",
   "execution_count": 54,
   "metadata": {
    "collapsed": false,
    "deletable": true,
    "editable": true
   },
   "outputs": [],
   "source": [
    "#logtransforming the scaleprice\n",
    "train_label=np.log(train_label)\n",
    "#standardizing numeric value\n",
    "for col in ['LotFrontage', 'LotArea', 'GrLivArea', 'TotalSF']:\n",
    "    train_data[col]=(train_data[col]-train_data[col].mean())/train_data[col].std()"
   ]
  },
  {
   "cell_type": "markdown",
   "metadata": {
    "deletable": true,
    "editable": true
   },
   "source": [
    "conveting the categorical value to numeric data"
   ]
  },
  {
   "cell_type": "code",
   "execution_count": 55,
   "metadata": {
    "collapsed": true,
    "deletable": true,
    "editable": true
   },
   "outputs": [],
   "source": [
    "train_data=convet(df=train_data)\n",
    "test_data=convet(df=test_data)"
   ]
  },
  {
   "cell_type": "code",
   "execution_count": 56,
   "metadata": {
    "collapsed": false,
    "deletable": true,
    "editable": true
   },
   "outputs": [
    {
     "name": "stdout",
     "output_type": "stream",
     "text": [
      "0.87145756868\n"
     ]
    }
   ],
   "source": [
    "#prepare the valid data\n",
    "valid_data=train_data[:400]\n",
    "valid_label=train_label[:400]\n",
    "train_data=train_data[400:]\n",
    "train_label=train_label[400:]\n"
   ]
  },
  {
   "cell_type": "code",
   "execution_count": 75,
   "metadata": {
    "collapsed": false
   },
   "outputs": [
    {
     "name": "stdout",
     "output_type": "stream",
     "text": [
      "0.87145756868\n"
     ]
    }
   ],
   "source": [
    "#build the RandomForest model\n",
    "clf_RF=RandomForestRegressor(n_estimators=100,criterion='mae',max_features=0.8,\n",
    "                          max_depth=6,min_samples_leaf=2,min_samples_split=2,\n",
    "                          bootstrap=True,oob_score=True,n_jobs=-1,random_state=22)\n",
    "clf_RF.fit(X=train_data,y=train_label)\n",
    "print(clf1.score(X=valid_data,y=valid_label))"
   ]
  },
  {
   "cell_type": "code",
   "execution_count": 76,
   "metadata": {
    "collapsed": false
   },
   "outputs": [
    {
     "data": {
      "text/plain": [
       "AdaBoostRegressor(base_estimator=DecisionTreeRegressor(criterion='mse', max_depth=None, max_features=None,\n",
       "           max_leaf_nodes=None, min_impurity_split=1e-07,\n",
       "           min_samples_leaf=1, min_samples_split=2,\n",
       "           min_weight_fraction_leaf=0.0, presort=False, random_state=33,\n",
       "           splitter='best'),\n",
       "         learning_rate=0.1, loss='square', n_estimators=100,\n",
       "         random_state=44)"
      ]
     },
     "execution_count": 76,
     "metadata": {},
     "output_type": "execute_result"
    }
   ],
   "source": [
    "#build the AdaBoost\n",
    "from sklearn.ensemble import  AdaBoostRegressor\n",
    "from sklearn.tree import  DecisionTreeRegressor\n",
    "regr=DecisionTreeRegressor(criterion='mse',splitter='best',max_features=None,max_depth=None,min_samples_split=2,\n",
    "                           random_state=33)\n",
    "clf_Ada=AdaBoostRegressor(base_estimator=regr,n_estimators=100,learning_rate=0.1,loss='square',random_state=44)\n",
    "clf_Ada.fit(X=train_data,y=train_label)"
   ]
  },
  {
   "cell_type": "code",
   "execution_count": 72,
   "metadata": {
    "collapsed": false
   },
   "outputs": [],
   "source": [
    "#bulid the GradientBoostedRegressionTree(GBRT)\n",
    "from sklearn.ensemble import GradientBoostingRegressor\n",
    "from sklearn.ensemble import  partial_dependence\n",
    "clf_GBRT=GradientBoostingRegressor(n_estimators=100,loss='ls',learning_rate=0.1,max_depth=4,subsample=0.8,max_features=0.7,\n",
    "                                  random_state=44)\n",
    "clf_GBRT.fit(X=valid_data,y=valid_label)\n",
    "importances=clf_GBRT.feature_importances_\n",
    "'''\n",
    "print('oob_improvement_:',clf_GBRT.oob_improvement_)\n",
    "print('train_score_,',clf_GBRT.train_score_)\n",
    "for i in clf_GBRT.staged_predict(X=valid_data):\n",
    "    score=mean_squared_error(valid_label,i)\n",
    "    print(score)\n",
    "'''\n",
    "clf_GBRT.feature_importances_\n",
    "fig, axs=partial_dependence.plot_partial_dependence(clf_GBRT,train_data,[0,3,4])\n",
    "plt.show()"
   ]
  },
  {
   "cell_type": "code",
   "execution_count": 83,
   "metadata": {
    "collapsed": false
   },
   "outputs": [
    {
     "data": {
      "text/plain": [
       "VotingClassifier(estimators=[('RF', RandomForestRegressor(bootstrap=True, criterion='mae', max_depth=6,\n",
       "           max_features=0.8, max_leaf_nodes=None, min_impurity_split=1e-07,\n",
       "           min_samples_leaf=2, min_samples_split=2,\n",
       "           min_weight_fraction_leaf=0.0, n_estimators=100, n_jobs=-1,\n",
       "           oob_...         presort='auto', random_state=44, subsample=0.8, verbose=0,\n",
       "             warm_start=False))],\n",
       "         n_jobs=-1, voting='hard', weights=None)"
      ]
     },
     "execution_count": 83,
     "metadata": {},
     "output_type": "execute_result"
    }
   ],
   "source": [
    "#bulid VotingClassification\n",
    "from sklearn.ensemble import VotingClas\n",
    "eclf=VotingClassifier(estimators=[('RF',clf_RF),('Ada',clf_Ada),('GBRT',clf_GBRT)],voting='hard',n_jobs=-1)\n",
    "eclf.fit(X=train_data,y=train_label)\n"
   ]
  },
  {
   "cell_type": "code",
   "execution_count": null,
   "metadata": {
    "collapsed": true
   },
   "outputs": [],
   "source": [
    "eclf.score(X=valid_data,y=valid_label)"
   ]
  },
  {
   "cell_type": "code",
   "execution_count": 64,
   "metadata": {
    "collapsed": false
   },
   "outputs": [],
   "source": [
    "importances=clf.feature_importances_\n",
    "std=np.std([tree.feature_importances_ for tree in clf.estimators_],axis=0)\n",
    "indices = np.argsort(importances)[::-1]\n",
    "plt.figure()\n",
    "plt.title('featrue_importances')\n",
    "plt.bar(range(train_data.shape[1]),importances[indices],color=\"r\",yerr=std[indices],align=\"center\")\n",
    "plt.xticks(range(train_data.shape[1]), indices)\n",
    "plt.xlim([-1, train_data.shape[1]])\n",
    "plt.show()"
   ]
  },
  {
   "cell_type": "code",
   "execution_count": 11,
   "metadata": {
    "collapsed": false,
    "deletable": true,
    "editable": true
   },
   "outputs": [
    {
     "name": "stdout",
     "output_type": "stream",
     "text": [
      "the mean squared error :0.023710\n",
      "the mean squared error :0.021413\n",
      "the mean squared error :0.018689\n",
      "the mean squared error :0.021803\n",
      "the mean squared error :0.024927\n",
      "the mean squared error :0.023364\n",
      "the mean squared error :0.018464\n",
      "the mean squared error :0.019267\n",
      "the mean squared error :0.018481\n",
      "the mean squared error :0.018793\n"
     ]
    }
   ],
   "source": [
    "def test(clf,test_data,test_label):\n",
    "    length=test_data.shape[0]\n",
    "    index=[x for x in range(length)]\n",
    "    for i in range(10):\n",
    "        index_=random.sample(index,200)\n",
    "        prediction=clf.predict(test_data.loc[index_])\n",
    "        mse=mean_squared_error(prediction,test_label[index_])\n",
    "        print('the mean squared error :%f'%(mse))\n",
    "test(clf,valid_data,valid_label)"
   ]
  },
  {
   "cell_type": "code",
   "execution_count": null,
   "metadata": {
    "collapsed": true
   },
   "outputs": [],
   "source": [
    "from sklearn.ensemble import  BaggingClassifier\n",
    "from sklearn.ensemble import AdaBoostClassifier\n",
    "from sklearn.ensemble import GradientBoostingClassifier\n",
    "from sklearn.ensemble import VotingClassifier\n",
    "from sklearn.model_selection import  cross_val_score\n",
    "from sklearn.metrics import mean_squared_error\n",
    "from sklearn.model_selection import  train_test_split\n",
    "from sklearn.metrics import r2_score"
   ]
  }
 ],
 "metadata": {
  "kernelspec": {
   "display_name": "Python [Root]",
   "language": "python",
   "name": "Python [Root]"
  },
  "language_info": {
   "codemirror_mode": {
    "name": "ipython",
    "version": 3
   },
   "file_extension": ".py",
   "mimetype": "text/x-python",
   "name": "python",
   "nbconvert_exporter": "python",
   "pygments_lexer": "ipython3",
   "version": "3.5.2"
  }
 },
 "nbformat": 4,
 "nbformat_minor": 0
}
